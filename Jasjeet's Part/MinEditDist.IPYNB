{
 "cells": [
  {
   "cell_type": "code",
   "execution_count": 18,
   "metadata": {},
   "outputs": [],
   "source": [
    "def minDistance(word1: str, word2: str):\n",
    "    # Create a matrix to store minimum edit distances between substrings of word1 and word2\n",
    "    cache = [[float(\"inf\")] * (len(word2)+1) for _ in range(len(word1) + 1)]\n",
    "    \n",
    "    # Initialize the bottom row and rightmost column of the matrix\n",
    "    for j in range(len(word2) + 1):\n",
    "        cache[len(word1)][j] = len(word2) - j\n",
    "    for i in range(len(word1) + 1):\n",
    "        cache[i][len(word2)] = len(word1) - i\n",
    "        \n",
    "    # Fill the matrix from bottom-right to top-left\n",
    "    for i in range(len(word1) - 1, -1, -1):\n",
    "        for j in range(len(word2) - 1, -1, -1):\n",
    "            # If the characters at the current positions match, no operation needed\n",
    "            if word1[i] == word2[j]:\n",
    "                cache[i][j] = cache[i + 1][j + 1]\n",
    "            # Otherwise, choose the minimum of three possible edit operations and add 1\n",
    "            else:\n",
    "                cache[i][j] = 1 + min(cache[i + 1][j], cache[i][j + 1], cache[i + 1][j + 1])\n",
    "    \n",
    "    # Print the matrix (cache)\n",
    "    print(\"Minimum Edit Distance Matrix:\")\n",
    "    for row in cache:\n",
    "        print(row)\n",
    "                \n",
    "    # Return the minimum edit distance between the full strings\n",
    "    return cache[0][0]"
   ]
  },
  {
   "cell_type": "markdown",
   "metadata": {},
   "source": [
    "This matrix represents the minimum edit distances between all substrings of \"happy\" and \"harry\". Each element matrix[i][j] in the<br> matrix represents the minimum number of edits required to transform the substring of \"happy\" ending at index i-1 into the<br> substring of \"harry\" ending at index j-1.<br> \n",
    "<br> \n",
    "Here's how to interpret the matrix:<br> \n",
    "<br> \n",
    "The rows represent the characters of \"happy\".<br> \n",
    "The columns represent the characters of \"harry\".<br> \n",
    "The element at matrix[i][j] represents the minimum edit distance between the substring of \"happy\" ending at index i-1 and the <br> substring of \"harry\" ending at index j-1.<br> \n",
    "<br> \n",
    "For example:<br> \n",
    "<br> \n",
    "matrix[5][5] represents the minimum edit distance between the empty string \"\" and the empty string \"\" which is 0.<br> \n",
    "matrix[4][4] represents the minimum edit distance between the substring \"h\" and \"h\" which is 0.<br> \n",
    "matrix[3][3] represents the minimum edit distance between the substring \"ha\" and \"ha\" which is 0.<br> \n",
    "matrix[2][2] represents the minimum edit distance between the substring \"hap\" and \"har\" which is 1.<br> \n",
    "matrix[1][1] represents the minimum edit distance between the substring \"happ\" and \"harr\" which is 2.<br> \n",
    "matrix[0][0] represents the minimum edit distance between the substring \"happy\" and \"harry\" which is 2.<br> \n",
    "So, the matrix provides a comprehensive view of the minimum edit distances between all substrings of \"happy\" and \"harry\".<br> "
   ]
  },
  {
   "cell_type": "markdown",
   "metadata": {},
   "source": []
  },
  {
   "cell_type": "code",
   "execution_count": 24,
   "metadata": {},
   "outputs": [
    {
     "data": {
      "application/vnd.jupyter.widget-view+json": {
       "model_id": "496881f8a86a49bbbe558efe4bbb39e2",
       "version_major": 2,
       "version_minor": 0
      },
      "text/plain": [
       "interactive(children=(Text(value='happy', description='Word 1:'), Text(value='harry', description='Word 2:'), …"
      ]
     },
     "metadata": {},
     "output_type": "display_data"
    },
    {
     "data": {
      "text/plain": [
       "<function __main__.calculate_and_display(word1, word2)>"
      ]
     },
     "execution_count": 24,
     "metadata": {},
     "output_type": "execute_result"
    }
   ],
   "source": [
    "from ipywidgets import interact, widgets\n",
    "from IPython.display import display\n",
    "\n",
    "def calculate_and_display(word1, word2):\n",
    "    matrix = minDistance(word1, word2)\n",
    "    print(matrix)\n",
    "\n",
    "word1_input = widgets.Text(description='Word 1:', value='happy')\n",
    "word2_input = widgets.Text(description='Word 2:', value='harry')\n",
    "\n",
    "interact(calculate_and_display, word1=word1_input, word2=word2_input)\n"
   ]
  }
 ],
 "metadata": {
  "kernelspec": {
   "display_name": "Python 3",
   "language": "python",
   "name": "python3"
  },
  "language_info": {
   "codemirror_mode": {
    "name": "ipython",
    "version": 3
   },
   "file_extension": ".py",
   "mimetype": "text/x-python",
   "name": "python",
   "nbconvert_exporter": "python",
   "pygments_lexer": "ipython3",
   "version": "3.10.10"
  }
 },
 "nbformat": 4,
 "nbformat_minor": 2
}
