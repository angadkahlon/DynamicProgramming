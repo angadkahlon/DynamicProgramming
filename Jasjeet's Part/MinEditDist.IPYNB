{
 "cells": [
  {
   "cell_type": "code",
   "execution_count": null,
   "metadata": {},
   "outputs": [],
   "source": [
    "def minDistance(self, word1: str, word2: str):\n",
    "    cache = [[float(\"inf\")] * (len(word2)+1) for _ in range(len(word1) + 1)]\n",
    "    \n",
    "    for j in range(len(word2) + 1):\n",
    "        cache[len(word1)][j] = len(word2) - j\n",
    "    for i in range(len(word1) + 1):\n",
    "        cache[i][len(word2)] = len(word1) - i\n",
    "        \n",
    "    for i in range(len(word1) - 1, -1, -1):\n",
    "            for j in range(len(word2) - 1, -1, -1):\n",
    "                if word1[i] == word2[j]:\n",
    "                    cache[i][j] = cache[i + 1][j + 1]\n",
    "                else:\n",
    "                    cache[i][j] = 1 + min (cache[i + 1][j] , cache[i][j + 1] , cache[i + 1][j + 1])\n",
    "                    \n",
    "    return cache[0][0]\n",
    "\n",
    "minDistance(word1=Jasjeet,word2=harry)\n"
   ]
  }
 ],
 "metadata": {
  "kernelspec": {
   "display_name": "Python 3",
   "language": "python",
   "name": "python3"
  },
  "language_info": {
   "name": "python",
   "version": "3.9.2"
  }
 },
 "nbformat": 4,
 "nbformat_minor": 2
}
